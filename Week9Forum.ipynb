{
 "cells": [
  {
   "cell_type": "code",
   "execution_count": 1,
   "metadata": {},
   "outputs": [],
   "source": [
    "#Importing Libraries\n",
    "from sklearn.model_selection import train_test_split\n",
    "from sklearn.metrics import davies_bouldin_score\n",
    "from sklearn.metrics import silhouette_score\n",
    "from sklearn.metrics import adjusted_rand_score\n",
    "from sklearn.metrics import calinski_harabasz_score\n",
    "import pandas as pd\n",
    "import numpy as np"
   ]
  },
  {
   "cell_type": "code",
   "execution_count": 3,
   "metadata": {},
   "outputs": [
    {
     "name": "stdout",
     "output_type": "stream",
     "text": [
      "   alcohol  malic_acid   ash  alcalinity_of_ash  magnesium  total_phenols  \\\n",
      "0    14.23        1.71  2.43               15.6      127.0           2.80   \n",
      "1    13.20        1.78  2.14               11.2      100.0           2.65   \n",
      "2    13.16        2.36  2.67               18.6      101.0           2.80   \n",
      "3    14.37        1.95  2.50               16.8      113.0           3.85   \n",
      "4    13.24        2.59  2.87               21.0      118.0           2.80   \n",
      "\n",
      "   flavanoids  nonflavanoid_phenols  proanthocyanins  color_intensity   hue  \\\n",
      "0        3.06                  0.28             2.29             5.64  1.04   \n",
      "1        2.76                  0.26             1.28             4.38  1.05   \n",
      "2        3.24                  0.30             2.81             5.68  1.03   \n",
      "3        3.49                  0.24             2.18             7.80  0.86   \n",
      "4        2.69                  0.39             1.82             4.32  1.04   \n",
      "\n",
      "   od280/od315_of_diluted_wines  proline  target  \n",
      "0                          3.92   1065.0       0  \n",
      "1                          3.40   1050.0       0  \n",
      "2                          3.17   1185.0       0  \n",
      "3                          3.45   1480.0       0  \n",
      "4                          2.93    735.0       0  \n"
     ]
    }
   ],
   "source": [
    "from sklearn.datasets import load_wine\n",
    "\n",
    "# Load the Wine dataset\n",
    "wine = load_wine()\n",
    "\n",
    "# Create a DataFrame\n",
    "wine_df = pd.DataFrame(data=wine.data, columns=wine.feature_names)\n",
    "\n",
    "# Add the target variable (class) to the DataFrame\n",
    "wine_df['target'] = wine.target\n",
    "\n",
    "# Display the DataFrame\n",
    "print(wine_df.head())"
   ]
  },
  {
   "cell_type": "code",
   "execution_count": 4,
   "metadata": {},
   "outputs": [
    {
     "name": "stdout",
     "output_type": "stream",
     "text": [
      "KMeans\n",
      "Silhouette Score: 0.5711220218931753\n",
      "Davies-Bouldin Index: 0.534266070367968\n",
      "Rand Score: 0.37111371823084754\n",
      "Calinski and Harabasz Score: 561.805170619475\n"
     ]
    }
   ],
   "source": [
    "from sklearn.cluster import KMeans\n",
    "# KMeans clustering\n",
    "kmeans = KMeans(n_clusters=3, random_state=20, n_init=\"auto\").fit(wine_df)\n",
    "\n",
    "# Getting labels\n",
    "kmeans_labels = kmeans.labels_\n",
    "\n",
    "# Assume you have true labels for comparison (replace true_labels with your actual true labels)\n",
    "true_labels = wine.target\n",
    "\n",
    "# Calculating silhouette score\n",
    "silhouette_avg1 = silhouette_score(wine_df, kmeans_labels)\n",
    "\n",
    "# Calculating Davies-Bouldin Index\n",
    "dbi_score1 = davies_bouldin_score(wine_df, kmeans_labels)\n",
    "\n",
    "# Calculating Rand Score\n",
    "rand_score1 = adjusted_rand_score(true_labels, kmeans_labels)\n",
    "\n",
    "# Calculating Calinski and Harabasz Score\n",
    "ch_score1 = calinski_harabasz_score(wine_df, kmeans_labels)\n",
    "\n",
    "print(\"KMeans\")\n",
    "print(\"Silhouette Score:\", silhouette_avg1)\n",
    "print(\"Davies-Bouldin Index:\", dbi_score1)\n",
    "print(\"Rand Score:\", rand_score1)\n",
    "print(\"Calinski and Harabasz Score:\", ch_score1)"
   ]
  },
  {
   "cell_type": "code",
   "execution_count": 5,
   "metadata": {},
   "outputs": [
    {
     "name": "stdout",
     "output_type": "stream",
     "text": [
      "Mean Shift\n",
      "Silhouette Score: 0.5024822932496186\n",
      "Davies-Bouldin Index: 0.5561815764333428\n",
      "Rand Score: 0.39723664098601413\n",
      "Calinski and Harabasz Score: 454.0526193288132\n"
     ]
    }
   ],
   "source": [
    "from sklearn.cluster import MeanShift\n",
    "# MeanShift clustering\n",
    "mean_shift = MeanShift().fit(wine_df)\n",
    "\n",
    "# Getting labels\n",
    "mean_shift_labels = mean_shift.labels_\n",
    "\n",
    "# Assume you have true labels for comparison (replace true_labels with your actual true labels)\n",
    "true_labels = wine.target\n",
    "\n",
    "# Calculating silhouette score\n",
    "silhouette_avg2 = silhouette_score(wine_df, mean_shift_labels)\n",
    "\n",
    "# Calculating Davies-Bouldin Index\n",
    "dbi_score2 = davies_bouldin_score(wine_df, mean_shift_labels)\n",
    "\n",
    "# Calculating Rand Score\n",
    "rand_score2 = adjusted_rand_score(true_labels, mean_shift_labels)\n",
    "\n",
    "# Calculating Calinski and Harabasz Score\n",
    "ch_score2 = calinski_harabasz_score(wine_df, mean_shift_labels)\n",
    "\n",
    "print(\"Mean Shift\")\n",
    "print(\"Silhouette Score:\", silhouette_avg2)\n",
    "print(\"Davies-Bouldin Index:\", dbi_score2)\n",
    "print(\"Rand Score:\", rand_score2)\n",
    "print(\"Calinski and Harabasz Score:\", ch_score2)"
   ]
  },
  {
   "cell_type": "code",
   "execution_count": 6,
   "metadata": {},
   "outputs": [
    {
     "name": "stdout",
     "output_type": "stream",
     "text": [
      "Agglomerative Clustering\n",
      "Silhouette Score: 0.5644632902637768\n",
      "Davies-Bouldin Index: 0.5357594721642328\n",
      "Rand Score: 0.36840191587483156\n",
      "Calinski and Harabasz Score: 552.8413535988415\n"
     ]
    }
   ],
   "source": [
    "from sklearn.cluster import AgglomerativeClustering\n",
    "\n",
    "# Agglomerative Clustering\n",
    "agglomerative_clustering = AgglomerativeClustering(n_clusters=3).fit(wine_df)\n",
    "\n",
    "# Getting labels\n",
    "agglomerative_labels = agglomerative_clustering.labels_\n",
    "\n",
    "# Assume you have true labels for comparison (replace true_labels with your actual true labels)\n",
    "true_labels = wine.target\n",
    "\n",
    "# Calculating silhouette score\n",
    "silhouette_avg3 = silhouette_score(wine_df, agglomerative_labels)\n",
    "\n",
    "# Calculating Davies-Bouldin Index\n",
    "dbi_score3 = davies_bouldin_score(wine_df, agglomerative_labels)\n",
    "\n",
    "# Calculating Rand Score\n",
    "rand_score3 = adjusted_rand_score(true_labels, agglomerative_labels)\n",
    "\n",
    "# Calculating Calinski and Harabasz Score\n",
    "ch_score3 = calinski_harabasz_score(wine_df, agglomerative_labels)\n",
    "\n",
    "print(\"Agglomerative Clustering\")\n",
    "print(\"Silhouette Score:\", silhouette_avg3)\n",
    "print(\"Davies-Bouldin Index:\", dbi_score3)\n",
    "print(\"Rand Score:\", rand_score3)\n",
    "print(\"Calinski and Harabasz Score:\", ch_score3)"
   ]
  },
  {
   "cell_type": "code",
   "execution_count": 7,
   "metadata": {},
   "outputs": [
    {
     "name": "stderr",
     "output_type": "stream",
     "text": [
      "c:\\Users\\ALYA\\AppData\\Local\\Programs\\Python\\Python311\\Lib\\site-packages\\sklearn\\manifold\\_spectral_embedding.py:273: UserWarning: Graph is not fully connected, spectral embedding may not work as expected.\n",
      "  warnings.warn(\n"
     ]
    },
    {
     "name": "stdout",
     "output_type": "stream",
     "text": [
      "Spectral Clustering\n",
      "Silhouette Score: 0.28034429912294523\n",
      "Davies-Bouldin Index: 0.44772786748913673\n",
      "Rand Score: 0.000351000351000351\n",
      "Calinski and Harabasz Score: 3.36909099369962\n"
     ]
    },
    {
     "name": "stderr",
     "output_type": "stream",
     "text": [
      "c:\\Users\\ALYA\\AppData\\Local\\Programs\\Python\\Python311\\Lib\\site-packages\\sklearn\\base.py:1152: ConvergenceWarning: Number of distinct clusters (2) found smaller than n_clusters (3). Possibly due to duplicate points in X.\n",
      "  return fit_method(estimator, *args, **kwargs)\n"
     ]
    }
   ],
   "source": [
    "from sklearn.cluster import SpectralClustering\n",
    "\n",
    "# Spectral Clustering\n",
    "spectral_clustering = SpectralClustering(n_clusters=3, random_state=20).fit(wine_df)\n",
    "\n",
    "# Getting labels\n",
    "spectral_labels = spectral_clustering.labels_\n",
    "\n",
    "# Assume you have true labels for comparison (replace true_labels with your actual true labels)\n",
    "true_labels = wine.target\n",
    "\n",
    "# Calculating silhouette score\n",
    "silhouette_avg4 = silhouette_score(wine_df, spectral_labels)\n",
    "\n",
    "# Calculating Davies-Bouldin Index\n",
    "dbi_score4 = davies_bouldin_score(wine_df, spectral_labels)\n",
    "\n",
    "# Calculating Rand Score\n",
    "rand_score4 = adjusted_rand_score(true_labels, spectral_labels)\n",
    "\n",
    "# Calculating Calinski and Harabasz Score\n",
    "ch_score4 = calinski_harabasz_score(wine_df, spectral_labels)\n",
    "\n",
    "print(\"Spectral Clustering\")\n",
    "print(\"Silhouette Score:\", silhouette_avg4)\n",
    "print(\"Davies-Bouldin Index:\", dbi_score4)\n",
    "print(\"Rand Score:\", rand_score4)\n",
    "print(\"Calinski and Harabasz Score:\", ch_score4)"
   ]
  }
 ],
 "metadata": {
  "kernelspec": {
   "display_name": "Python 3",
   "language": "python",
   "name": "python3"
  },
  "language_info": {
   "codemirror_mode": {
    "name": "ipython",
    "version": 3
   },
   "file_extension": ".py",
   "mimetype": "text/x-python",
   "name": "python",
   "nbconvert_exporter": "python",
   "pygments_lexer": "ipython3",
   "version": "3.11.5"
  }
 },
 "nbformat": 4,
 "nbformat_minor": 2
}
